{
 "cells": [
  {
   "cell_type": "code",
   "execution_count": 55,
   "metadata": {
    "collapsed": true
   },
   "outputs": [],
   "source": [
    "from nltk.tokenize import sent_tokenize,word_tokenize\n",
    "from nltk.corpus import stopwords\n",
    "from collections import defaultdict\n",
    "from string import punctuation\n",
    "from heapq import nlargest\n",
    "import urllib.request\n",
    "from bs4 import BeautifulSoup"
   ]
  },
  {
   "cell_type": "code",
   "execution_count": 59,
   "metadata": {},
   "outputs": [],
   "source": [
    "class FrequencySummarizer:\n",
    "    def __init__(self, min_cut=0.1, max_cut=0.9):\n",
    "        self._min_cut = min_cut\n",
    "        self._max_cut = max_cut \n",
    "        self._stopwords = set(stopwords.words('english') + list(punctuation))\n",
    "      \n",
    "    def _compute_frequencies(self, word_sent):\n",
    "        \n",
    "        freq = defaultdict(int)       \n",
    "        for s in word_sent:\n",
    "            for word in s:            \n",
    "                if word not in self._stopwords:               \n",
    "                    freq[word] += 1\n",
    "\n",
    "        m = float(max(freq.values()))\n",
    "        for w in list(freq.keys()):\n",
    "            freq[w] = freq[w]/m\n",
    "            if freq[w] >= self._max_cut or freq[w] <= self._min_cut:\n",
    "                del freq[w]\n",
    "        return freq\n",
    "\n",
    "    def summarize(self, text, n):\n",
    "       \n",
    "        sents = sent_tokenize(text)\n",
    "        assert n <= len(sents)\n",
    "       \n",
    "        word_sent = [word_tokenize(s.lower()) for s in sents]\n",
    "        \n",
    "        self._freq = self._compute_frequencies(word_sent)\n",
    "       \n",
    "        ranking = defaultdict(int)\n",
    "        \n",
    "        for i,sent in enumerate(word_sent):\n",
    "           \n",
    "            for w in sent:\n",
    "                if w in self._freq:\n",
    "                   \n",
    "                    ranking[i] += self._freq[w]\n",
    "        sents_idx = nlargest(n, ranking, key=ranking.get)\n",
    "        \n",
    "        return [sents[j] for j in sents_idx]"
   ]
  },
  {
   "cell_type": "code",
   "execution_count": 64,
   "metadata": {
    "collapsed": true
   },
   "outputs": [],
   "source": [
    "def get_only_text_washington_post_url(url):\n",
    "    page = urllib.request.urlopen(url).read().decode('utf8')\n",
    "    soup = BeautifulSoup(page,\"lxml\")\n",
    "    \n",
    "    text = ' '.join(map(lambda p: p.text, soup.find_all('article')))\n",
    "   \n",
    "    soup2 = BeautifulSoup(text,\"lxml\")\n",
    "    text = ' '.join(map(lambda p: p.text, soup2.find_all('p')))\n",
    "    \n",
    "    return soup.title.text, text"
   ]
  },
  {
   "cell_type": "code",
   "execution_count": 65,
   "metadata": {},
   "outputs": [
    {
     "name": "stdout",
     "output_type": "stream",
     "text": [
      "\n",
      "URL :https://www.washingtonpost.com/politics/trump-sought-release-of-classified-russia-memo-putting-him-at-odds-with-justice-department/2018/01/27/a00f2a4c-02bb-11e8-9d31-d72cf78dbeee_story.html?hpid=hp_hp-top-table-main_trumpreconstruct546pm%3Ahomepage%2Fstory&utm_term=.9e123bc03dc7\n",
      "\n",
      "\n",
      "Text :('Trump sought release of classified Russia memo, putting him at odds with Justice Department - The Washington Post', 'On Wednesday, as Republicans were clamoring to make public a secret document they think will undercut the investigation into Russian meddling, President Trump made clear his desire: Release the memo. Trump’s directive was at odds with his own Justice Department, which had warned that releasing the classified memo written by congressional Republicans would be “extraordinarily reckless” without an official review. Nevertheless, White House Chief of Staff John F. Kelly relayed the president’s view to Attorney General Jeff Sessions — although the decision to release the document ultimately lies with Congress. Kelly and Sessions spoke twice that day — in person during a small-group afternoon meeting and over the phone later that evening — and Kelly conveyed Trump’s desire, a senior administration official said. Trump and his Republican allies have placed special emphasis on the classified memo, which was written by staff members for House Intelligence Committee Chairman Rep. Devin Nunes (R-Calif.) and suggests that the FBI may have relied on politically motivated or questionable sources to justify its request for a secret surveillance warrant in the investigation’s early phase. Democrats have characterized the memo as misleading talking points designed to smear the FBI. They said it inaccurately summarizes investigative materials that also are classified. Trump “is inclined to have that released just because it will shed light,” said a senior administration official who was speaking on the condition of anonymity to recount private conversations. “Apparently all the rumors are that it will shed light, it will help the investigators come to a conclusion.” The intervention with Sessions, which has not previously been reported, marked another example of the president’s year-long attempts to shape and influence an investigation that is fundamentally outside his control. Trump, appearing frustrated and at times angry, has complained to confidants and aides in recent weeks that he does not understand why he cannot simply give orders to “my guys” at what he sometimes calls the “Trump Justice Department,” two people familiar with the president’s comments said. Such complaints, and Trump’s repeated attempts to pressure senior law enforcement officials through firings or other means, have now become one of the main focuses of the investigation — including Trump’s order last summer to fire special counsel Robert S. Mueller III, which prompted White House counsel Donald McGahn to threaten to quit before Trump backed down. Trump recently revived his complaints that Deputy Attorney General Rod J. Rosenstein was not properly supervising Mueller’s probe, and suggested that he should fire Rosenstein\\xa0— a highly controversial action against the person officially overseeing the special counsel’s investigation, an adviser who speaks frequently with Trump said.\\xa0 The president also made clear in recent days that he hopes that new questions facing the investigation allow him or his associates to make changes at the Justice Department, two people familiar with Trump’s comments said. The president has told close advisers that the memo is starting to make people realize how the FBI and the Mueller probe are biased against him, and that it could provide him with grounds for either firing or forcing Rosenstein to leave, according to one person familiar with his remarks. He has privately derided Rosenstein as “the Democrat from Baltimore.” Rosenstein is not a Democrat. He was appointed as a U.S. attorney in Maryland by President George W. Bush and was kept in that post by President Barack Obama. One senior White House official said he personally had not heard the president make comments about getting rid of Rosenstein, which were first reported by CNN. A spokesman for the Justice Department declined to comment. As Mueller narrows his probe\\xa0— homing in on the ways Trump may have tried to impede the Russia investigation\\xa0— a common thread ties many of the incidents together: a president accustomed to functioning as the executive of a private family business who does not seem to understand that his subordinates have sworn an oath to the Constitution rather than to him.\\xa0 On Wednesday, speaking briefly to reporters, Trump defended his actions in the probe as “fighting back” against unfair allegations. “Oh, well, ‘Did he fight back?’ ” Trump said. “You fight back, ‘Oh, it’s obstruction.’\\xa0” The Russia probe has also figured prominently in Trump’s souring relationships with some former allies and confidants. Trump first became enraged with Sessions after the attorney general recused himself from overseeing the Russia investigation, which Trump thinks led to the appointment of Mueller. Later, after his former chief strategist, Stephen K. Bannon, accused Trump’s eldest son, Donald Trump Jr., and son-in-law, Jared Kushner, of a\\xa0“treasonous” and\\xa0“unpatriotic” meeting with a Russian lawyer in a new book, the furious president cast Bannon out of his orbit, as well.\\xa0 Sally Q. Yates, the acting attorney general whom Trump fired early last year for failing to enforce his travel ban, said in an interview that Trump’s behavior\\xa0— from his June decision to call for Mueller’s firing to other meddling throughout the year\\xa0— is\\xa0“beyond unusual” and\\xa0“really dangerous.”\\xa0 “If you get to what’s most essential and important and, I think, really damaging to our country, beyond just the confines of this administration, it’s this attack on our democratic institutions and particularly the Department of Justice,” she said. “It is a firm tradition at the Department of Justice that the White House just has absolutely no involvement in criminal investigations or prosecutions, period.”  She added:\\xa0“It seems like there are almost weekly efforts to try to get DOJ to open up a case on his former political rival.\\u2009.\\u2009.\\u2009. The near daily attacks on the FBI — we’ve never seen anything anywhere close to this before.”\\xa0 Indeed, Trump has shown a repeated pattern of attempting to regain control of the Russia investigation and deploy the Justice Department for his own protection and personal gain — comments and actions Mueller’s team could include in the obstruction-of-justice portion of their probe.\\xa0 The problem, said Barry Bennett, a former senior adviser on the Trump campaign, is that subordinates sometimes confuse Trump’s angry venting for actual administration directives.\\xa0 “Some people still either don’t understand the difference between the president’s bark and his bite, or they’re more than willing to take advantage of the bark to assume that it was a bite,” Bennett said. “Trust me, everybody on the campaign was ‘fired’ more than once, but it never really happened.” The arc of a potential case of obstruction of justice stretches back to the earliest days of Trump’s presidency. In January 2017, at a one-on-one dinner, then-FBI Director James B. Comey said, Trump told him:\\xa0“I need loyalty. I expect loyalty.” A month later, in February, Trump dismissed others from the Oval Office and told Comey that Michael Flynn — Trump’s former national security adviser who was fired for misleading Vice President Pence about his contacts with Russians — had done nothing wrong, according to Comey’s testimony to Congress. “I hope you can see your way clear to letting this go, to letting Flynn go,” Trump said at the time, according to Comey.\\xa0“He is a good guy. I hope you can let this go.” Then, in phone calls in March and April, Trump told Comey that he needed him to lift the\\xa0“cloud” of the Russia investigation and\\xa0“get out” that Trump personally was not under investigation. And then on May\\xa09, an angry Trump finally fired the FBI director.\\xa0 Shortly after dismissing Comey, the president asked Andrew McCabe, his acting FBI director, whom he voted for in the 2016 election, according to people with knowledge of the conversation. In December, when The Washington Post reported that McCabe intended to retire in early 2018 once he becomes fully eligible for his pension benefits, Trump took to Twitter to criticize him. A person who has spoken with Mueller’s team said investigators’ questions seemed at least partially designed to probe potential obstruction from Trump.\\xa0 “The questions are about who was where in every meeting, what happened before and after, what the president was saying as he made decisions,” this person said, speaking on the condition of anonymity to recount a private session. This person added that while it seemed unlikely Mueller’s team would yield any evidence of a coordinated effort to aid the Russians — “If you were on the campaign, you know we couldn’t even collude with ourselves,” he said — the investigators might find more details to support obstruction of justice.\\xa0 By June, Trump had so openly begun discussing firing Mueller that Bannon and Reince Priebus, who was then chief of staff, grew\\xa0“incredibly concerned,” huddling to strategize about how to dissuade the president and enlisting others to intervene with him. In mid-June, Christopher Ruddy, the chief executive of the conservative Newsmax Media and a longtime Trump confidant, voiced those concerns publicly, telling PBS “NewsHour,”\\xa0“I think he’s perhaps terminating the special counsel.” And that same month, Trump did, in fact, order McGahn to fire Mueller, a directive first reported Thursday by the New York Times. But McGahn told West Wing staff — though not the president — that he would quit before carrying out Trump’s directive, and the president ultimately backed down, people familiar with the events said. Allies of the president said that his demands for absolute loyalty are not unreasonable — and not indicative of any attempts to obstruct justice. “Of course the president ought to be able to expect loyalty,” said Newt Gingrich, an unofficial Trump adviser. “He is the chosen president of the United States by the American people, and he is the chief executive. If they’re not loyal to him, who the hell are they supposed to be loyal to?” In recent weeks, Mueller’s team has questioned White House staff about the June episode in which Trump expressed interest in firing Mueller, a person familiar with those interviews said.\\xa0 Mueller has also asked about Trump’s repeated outbursts against his attorney general, including a moment in late July when Trump nearly ousted Sessions out of anger at the Russia probe. Although McGahn had called Sessions at Trump’s request in early March to urge him not to recuse himself, Sessions stepped aside that same day — and the president was furious.\\xa0\\xa0 By July\\xa019, Trump was venting publicly, telling the Times that it was “very unfair” of Sessions to recuse himself from the Russia investigation and that he would not have nominated Sessions to be attorney general if he had known of his plans.\\xa0  The next day, facing Trump’s public criticism, Sessions announced that he would remain attorney general\\xa0“as long as it is appropriate.” That same day, a White House adviser told a Post reporter that Trump was\\xa0“stunned” that Sessions had not yet quit. The president, this adviser added, has been hoping that Sessions would be embarrassed enough by Trump’s scathing public remarks to leave on his own.\\xa0 Shortly after, Trump issued a directive to Priebus: Go to Sessions and secure his resignation, according to two people with knowledge of the episode. But Priebus hesitated, declining to outright ask Sessions to quit and instead working to manage Trump’s anger, those two people said. In the following days, Republicans rallied to Sessions’s defense, and Trump backed off. A person who has interacted with Mueller’s team said the prosecutors seem to be pursuing a theory that Trump’s actions over months have followed a consistent pattern. “Their theory appears to be that he goes after people who are not loyal,” this person said. “He wants in place people who are loyal, to make sure he doesn’t get in trouble in the investigation.” This person added that key episodes in this narrative include Trump’s order that Sessions not recuse himself from the investigation; the firing of Comey; his efforts to intervene to get the Flynn investigation dropped; and then, above all, Trump’s dictation aboard Air Force One in July of a misleading statement to be released by his son, Don Jr., about his meeting with the Russian lawyer at Trump Tower during the campaign —\\xa0“the most obvious obstructive act,” this person said. To prove obstruction of justice, Mueller would have to show that Trump didn’t just act to derail the investigation but did so with a corrupt motive, such as an effort to hide his own misdeeds. Legal experts are divided over whether the Constitution allows for the president to be indicted while in office. As a result, Mueller might seek to outline his findings about Trump’s actions in a written report rather than bring them in court through criminal charges. It would probably fall to Rosenstein to decide whether to submit the report to Congress, which has the power to open impeachment proceedings. As Trump faced growing questions about myriad concerns from his June directive to fire Mueller to his more recent grousing about Rosenstein, the White House was largely silent.\\xa0In response to several specific queries, White House spokesman Hogan Gidley offered a written statement that addressed few of them. “The president has been clear publicly and privately that he wants absolute transparency throughout this process,” Gidley said in the statement. “Based on numerous news reports, top officials at the FBI have engaged in conduct that shows bias against President Trump and bias for Hillary Clinton. The president has said repeatedly for months there is no consideration of terminating the special counsel.”  Philip Rucker and Matt Zapotosky contributed to this report.  ')\n",
      "\n",
      "\n",
      "Summary :['Sally Q. Yates, the acting attorney general whom Trump fired early last year for failing to enforce his travel ban, said in an interview that Trump’s behavior\\xa0— from his June decision to call for Mueller’s firing to other meddling throughout the year\\xa0— is\\xa0“beyond unusual” and\\xa0“really dangerous.”\\xa0 “If you get to what’s most essential and important and, I think, really damaging to our country, beyond just the confines of this administration, it’s this attack on our democratic institutions and particularly the Department of Justice,” she said.', '“He wants in place people who are loyal, to make sure he doesn’t get in trouble in the investigation.” This person added that key episodes in this narrative include Trump’s order that Sessions not recuse himself from the investigation; the firing of Comey; his efforts to intervene to get the Flynn investigation dropped; and then, above all, Trump’s dictation aboard Air Force One in July of a misleading statement to be released by his son, Don Jr., about his meeting with the Russian lawyer at Trump Tower during the campaign —\\xa0“the most obvious obstructive act,” this person said.', '“Some people still either don’t understand the difference between the president’s bark and his bite, or they’re more than willing to take advantage of the bark to assume that it was a bite,” Bennett said.']\n",
      "\n"
     ]
    }
   ],
   "source": [
    "# Enter the washington post article url you want to summarize\n",
    "someUrl = \"https://www.washingtonpost.com/politics/trump-sought-release-of-classified-russia-memo-putting-him-at-odds-with-justice-department/2018/01/27/a00f2a4c-02bb-11e8-9d31-d72cf78dbeee_story.html?hpid=hp_hp-top-table-main_trumpreconstruct546pm%3Ahomepage%2Fstory&utm_term=.9e123bc03dc7\"\n",
    "print(\"\\nURL :\" +str(someUrl)+\"\\n\")\n",
    "\n",
    "textOfUrl = get_only_text_washington_post_url(someUrl)\n",
    "print(\"\\nText :\" +str(textOfUrl)+\"\\n\")\n",
    "\n",
    "fs = FrequencySummarizer()\n",
    "# 3 is the numbe rof lines in the summary.\n",
    "summary = fs.summarize(textOfUrl[1], 3)\n",
    "print(\"\\nSummary :\" +str(summary)+\"\\n\")"
   ]
  },
  {
   "cell_type": "code",
   "execution_count": null,
   "metadata": {
    "collapsed": true
   },
   "outputs": [],
   "source": []
  }
 ],
 "metadata": {
  "kernelspec": {
   "display_name": "Python 3",
   "language": "python",
   "name": "python3"
  },
  "language_info": {
   "codemirror_mode": {
    "name": "ipython",
    "version": 3
   },
   "file_extension": ".py",
   "mimetype": "text/x-python",
   "name": "python",
   "nbconvert_exporter": "python",
   "pygments_lexer": "ipython3",
   "version": "3.6.3"
  }
 },
 "nbformat": 4,
 "nbformat_minor": 2
}
